{
 "cells": [
  {
   "cell_type": "markdown",
   "id": "eeb1ade4",
   "metadata": {},
   "source": [
    "### 1-\n",
    "add all the items in this list: ['1','2','2.5','3.5']\n"
   ]
  },
  {
   "cell_type": "code",
   "execution_count": 2,
   "id": "62b42805",
   "metadata": {},
   "outputs": [
    {
     "name": "stdout",
     "output_type": "stream",
     "text": [
      "['1', '2', '2.5', '3.5']\n"
     ]
    }
   ],
   "source": [
    "'''Enter your code here'''\n",
    "list=[]\n",
    "list.extend(['1','2','2.5','3.5'])\n",
    "print(list)"
   ]
  },
  {
   "cell_type": "markdown",
   "id": "fbdf211f",
   "metadata": {},
   "source": [
    "### 2- \n",
    "calculate the average of all 2-digit integers. (numbers 10 to 99)\n"
   ]
  },
  {
   "cell_type": "code",
   "execution_count": 3,
   "id": "908f5093",
   "metadata": {},
   "outputs": [
    {
     "name": "stdout",
     "output_type": "stream",
     "text": [
      "54.5\n"
     ]
    }
   ],
   "source": [
    "'''Enter your code here'''\n",
    "n=0\n",
    "for i in range(10,100):\n",
    "    n=n+i\n",
    "print(n/90)"
   ]
  },
  {
   "cell_type": "markdown",
   "id": "eb3bd609",
   "metadata": {},
   "source": [
    "### 3- \n",
    "Given a variable, check if it is prime (a prime number is a number that is divisible only by itself and 1)\n"
   ]
  },
  {
   "cell_type": "code",
   "execution_count": 12,
   "id": "27f87528",
   "metadata": {},
   "outputs": [
    {
     "name": "stdin",
     "output_type": "stream",
     "text": [
      "enter a number:  33\n"
     ]
    },
    {
     "name": "stdout",
     "output_type": "stream",
     "text": [
      "False\n"
     ]
    }
   ],
   "source": [
    "'''Enter your code here'''\n",
    "n=int(input(\"enter a number: \"))\n",
    "prime=True\n",
    "if n>1:\n",
    "    for i in range(2,n):\n",
    "        if n%i==0:\n",
    "            prime=False\n",
    "else:\n",
    "    prime=False\n",
    "print(prime)"
   ]
  },
  {
   "cell_type": "markdown",
   "id": "a8e01dc6",
   "metadata": {},
   "source": [
    "### 4- \n",
    "Given a variable, write a function to check if it is a prime number. You should handle all data types and corner cases (Numbers less than 2)\n"
   ]
  },
  {
   "cell_type": "code",
   "execution_count": 27,
   "id": "e74878e6",
   "metadata": {},
   "outputs": [
    {
     "name": "stdin",
     "output_type": "stream",
     "text": [
      "enter a number:  33\n"
     ]
    },
    {
     "name": "stdout",
     "output_type": "stream",
     "text": [
      "False\n"
     ]
    }
   ],
   "source": [
    "'''Enter your code here'''\n",
    "def isprime(number):\n",
    "    if number>2:\n",
    "        for i in range(2,number):\n",
    "            if number%i==0:\n",
    "                return False\n",
    "        return True\n",
    "    else:\n",
    "        return False\n",
    "\n",
    "n=int(input(\"enter a number: \"))\n",
    "print(isprime(n))"
   ]
  },
  {
   "cell_type": "markdown",
   "id": "13ec0f87",
   "metadata": {},
   "source": [
    "### 5- \n",
    "make a list of prime numbers less than 100.\n"
   ]
  },
  {
   "cell_type": "code",
   "execution_count": 28,
   "id": "48d1a3f7",
   "metadata": {},
   "outputs": [
    {
     "name": "stdout",
     "output_type": "stream",
     "text": [
      "[3, 5, 7, 11, 13, 17, 19, 23, 29, 31, 37, 41, 43, 47, 53, 59, 61, 67, 71, 73, 79, 83, 89, 97]\n"
     ]
    }
   ],
   "source": [
    "'''Enter your code here'''\n",
    "prime_list=[]\n",
    "for n in range(0,100):\n",
    "    if isprime(n)==True:\n",
    "        prime_list.append(n)\n",
    "print(prime_list)"
   ]
  },
  {
   "cell_type": "markdown",
   "id": "f4eec208",
   "metadata": {},
   "source": [
    "### 6- \n",
    "make sets of integers S2, S3 less than 100 that are divisible by two, and three. Then take the intersection and union of the two sets. "
   ]
  },
  {
   "cell_type": "code",
   "execution_count": 7,
   "id": "d65bde2d",
   "metadata": {},
   "outputs": [
    {
     "name": "stdout",
     "output_type": "stream",
     "text": [
      "intersection: {0, 96, 66, 36, 6, 72, 42, 12, 78, 48, 18, 84, 54, 24, 90, 60, 30}\n",
      "union: {0, 2, 3, 4, 6, 8, 9, 10, 12, 14, 15, 16, 18, 20, 21, 22, 24, 26, 27, 28, 30, 32, 33, 34, 36, 38, 39, 40, 42, 44, 45, 46, 48, 50, 51, 52, 54, 56, 57, 58, 60, 62, 63, 64, 66, 68, 69, 70, 72, 74, 75, 76, 78, 80, 81, 82, 84, 86, 87, 88, 90, 92, 93, 94, 96, 98, 99}\n"
     ]
    }
   ],
   "source": [
    "'''Enter your code here'''\n",
    "s2=set(range(0,100,2))\n",
    "s3=set(range(0,100,3))\n",
    "inter=s2&s3\n",
    "union=s2|s3\n",
    "print(f\"intersection: {inter}\")\n",
    "print(f\"union: {union}\")"
   ]
  },
  {
   "cell_type": "markdown",
   "id": "36bac5d8",
   "metadata": {},
   "source": [
    "### 7-\n",
    "Find the set of all numbers less than 100 that are divisible by 2 and 3 and not by 5.\n"
   ]
  },
  {
   "cell_type": "code",
   "execution_count": 8,
   "id": "47b6fdbb",
   "metadata": {},
   "outputs": [
    {
     "name": "stdout",
     "output_type": "stream",
     "text": [
      "{96, 66, 36, 6, 72, 42, 12, 78, 48, 18, 84, 54, 24}\n"
     ]
    }
   ],
   "source": [
    "'''Enter your code here'''\n",
    "s=set(x for x in range(0,100,6)if x%5!=0)\n",
    "print(s)\n"
   ]
  },
  {
   "cell_type": "markdown",
   "id": "38d3a022",
   "metadata": {},
   "source": [
    "### 8- \n",
    "\n",
    "Write a code to generate this pattern given n number of lines:\n",
    "(For n = 6)\n",
    "### \\****** \n",
    "### \\***** \n",
    "### \\**** \n",
    "### \\*** \n",
    "### \\** \n",
    "### \\*\n",
    "\n"
   ]
  },
  {
   "cell_type": "code",
   "execution_count": 40,
   "id": "92e8f426",
   "metadata": {},
   "outputs": [
    {
     "name": "stdin",
     "output_type": "stream",
     "text": [
      "enter a number:  6\n"
     ]
    },
    {
     "name": "stdout",
     "output_type": "stream",
     "text": [
      "******\n",
      "*****\n",
      "****\n",
      "***\n",
      "**\n",
      "*\n"
     ]
    }
   ],
   "source": [
    "'''Enter your code here'''\n",
    "n=int(input(\"enter a number: \"))\n",
    "while n!=0:\n",
    "    print(n*'*')\n",
    "    n=n-1"
   ]
  },
  {
   "cell_type": "markdown",
   "id": "feeb3cfa",
   "metadata": {},
   "source": [
    "### 9-\n",
    "write a code to reverse this string :\n",
    "\n",
    "\"I love python programming\" --> \"programming python love I\""
   ]
  },
  {
   "cell_type": "code",
   "execution_count": 1,
   "id": "ece78ccd",
   "metadata": {},
   "outputs": [
    {
     "name": "stdout",
     "output_type": "stream",
     "text": [
      "programming python love I\n"
     ]
    }
   ],
   "source": [
    "'''Enter your code here'''\n",
    "text=\"I love python programming\"\n",
    "r=text.split(' ')\n",
    "r=reversed(r)\n",
    "print(' '.join(r))"
   ]
  },
  {
   "cell_type": "markdown",
   "id": "a3700b20",
   "metadata": {},
   "source": [
    "### 10- \n",
    "Given this string, make a set of all words\n",
    "(You can use split and replace functions)"
   ]
  },
  {
   "cell_type": "code",
   "execution_count": 5,
   "id": "849f134b",
   "metadata": {},
   "outputs": [
    {
     "name": "stdout",
     "output_type": "stream",
     "text": [
      "{'mathematics', 'big', 'files', 'Python', 'complex', 'for', 'applications', 'can', 'development', 'and', 'read', 'workflows', 'create', 'prototyping', 'database', 'alongside', 'rapid', 'be', 'server', 'a', 'It', 'handle', 'to', 'production-ready', 'on', 'web', 'software', 'also', 'connect', 'modify', 'perform', 'used', 'data', 'or', 'systems'}\n"
     ]
    }
   ],
   "source": [
    "my_string = '''Python can be used on a server to create web applications.\n",
    "Python can be used alongside software to create workflows.\n",
    "Python can connect to database systems. It can also read and modify files.\n",
    "Python can be used to handle big data and perform complex mathematics.\n",
    "Python can be used for rapid prototyping, or for production-ready software development.'''\n",
    "\n",
    "'''Enter your code here'''\n",
    "clean=my_string.replace('.','').replace(',','').replace('\\n',' ')\n",
    "words=clean.split(' ')\n",
    "words=set(words)\n",
    "print(words)"
   ]
  }
 ],
 "metadata": {
  "kernelspec": {
   "display_name": "Python 3 (ipykernel)",
   "language": "python",
   "name": "python3"
  },
  "language_info": {
   "codemirror_mode": {
    "name": "ipython",
    "version": 3
   },
   "file_extension": ".py",
   "mimetype": "text/x-python",
   "name": "python",
   "nbconvert_exporter": "python",
   "pygments_lexer": "ipython3",
   "version": "3.12.4"
  }
 },
 "nbformat": 4,
 "nbformat_minor": 5
}
